{
 "cells": [
  {
   "cell_type": "code",
   "execution_count": 19,
   "metadata": {},
   "outputs": [],
   "source": [
    "import ui"
   ]
  },
  {
   "cell_type": "code",
   "execution_count": 20,
   "metadata": {},
   "outputs": [
    {
     "name": "stdout",
     "output_type": "stream",
     "text": [
      ">>> REQ: http://dt.miet.ru/ppo_it/api/1 \n",
      "<<< RES: 200\n",
      "\t{\"data\":{\"house_count\":147,\"city_id\":1,\"area_count\":6,\"apartment_count\":14964,\"temperature\":-21,\"city_name\":\"Алмазный\"}}\n",
      ">>> REQ: http://dt.miet.ru/ppo_it/api/1/1 \n",
      "<<< RES: 200\n",
      "\t{\"data\":[{\"house_id\":1,\"apartment_count\":56},{\"house_id\":2,\"apartment_count\":160},{\"house_id\":3,\"apartment_count\":192},{\"house_id\":4,\"apartment_count\":272},{\"house_id\":5,\"apartment_count\":112},{\"house_id\":6,\"apartment_count\":192},{\"house_id\":7,\"apartment_count\":80},{\"house_id\":8,\"apartment_count\":84},{\"house_id\":9,\"apartment_count\":84},{\"house_id\":10,\"apartment_count\":68},{\"house_id\":11,\"apartment_count\":144},{\"house_id\":12,\"apartment_count\":144},{\"house_id\":13,\"apartment_count\":80},{\"house_id\":14,\"apartment_count\":120},{\"house_id\":15,\"apartment_count\":84},{\"house_id\":16,\"apartment_count\":68},{\"house_id\":17,\"apartment_count\":20},{\"house_id\":18,\"apartment_count\":120},{\"house_id\":19,\"apartment_count\":272},{\"house_id\":20,\"apartment_count\":136},{\"house_id\":21,\"apartment_count\":136},{\"house_id\":22,\"apartment_count\":40},{\"house_id\":23,\"apartment_count\":204}]}\n",
      ">>> REQ: http://dt.miet.ru/ppo_it/api/1/2 \n",
      "<<< RES: 200\n",
      "\t{\"data\":[{\"house_id\":1,\"apartment_count\":56},{\"house_id\":2,\"apartment_count\":144},{\"house_id\":3,\"apartment_count\":56},{\"house_id\":4,\"apartment_count\":84},{\"house_id\":5,\"apartment_count\":48},{\"house_id\":6,\"apartment_count\":144},{\"house_id\":7,\"apartment_count\":80},{\"house_id\":8,\"apartment_count\":136},{\"house_id\":9,\"apartment_count\":96},{\"house_id\":10,\"apartment_count\":56},{\"house_id\":11,\"apartment_count\":136},{\"house_id\":12,\"apartment_count\":60},{\"house_id\":13,\"apartment_count\":80},{\"house_id\":14,\"apartment_count\":160},{\"house_id\":15,\"apartment_count\":40},{\"house_id\":16,\"apartment_count\":40},{\"house_id\":17,\"apartment_count\":120},{\"house_id\":18,\"apartment_count\":120},{\"house_id\":19,\"apartment_count\":28},{\"house_id\":20,\"apartment_count\":272},{\"house_id\":21,\"apartment_count\":96}]}\n",
      ">>> REQ: http://dt.miet.ru/ppo_it/api/1/3 \n",
      "<<< RES: 200\n",
      "\t{\"data\":[{\"house_id\":1,\"apartment_count\":20},{\"house_id\":2,\"apartment_count\":28},{\"house_id\":3,\"apartment_count\":20},{\"house_id\":4,\"apartment_count\":40},{\"house_id\":5,\"apartment_count\":272},{\"house_id\":6,\"apartment_count\":84},{\"house_id\":7,\"apartment_count\":112},{\"house_id\":8,\"apartment_count\":28},{\"house_id\":9,\"apartment_count\":48},{\"house_id\":10,\"apartment_count\":20},{\"house_id\":11,\"apartment_count\":48},{\"house_id\":12,\"apartment_count\":272},{\"house_id\":13,\"apartment_count\":40},{\"house_id\":14,\"apartment_count\":192},{\"house_id\":15,\"apartment_count\":160},{\"house_id\":16,\"apartment_count\":20},{\"house_id\":17,\"apartment_count\":40},{\"house_id\":18,\"apartment_count\":120},{\"house_id\":19,\"apartment_count\":48},{\"house_id\":20,\"apartment_count\":80},{\"house_id\":21,\"apartment_count\":204},{\"house_id\":22,\"apartment_count\":48},{\"house_id\":23,\"apartment_count\":84},{\"house_id\":24,\"apartment_count\":136},{\"house_id\":25,\"apartment_count\":144},{\"house_id\":26,\"apartment_count\":136},{\"house_id\":27,\"apartment_count\":80},{\"house_id\":28,\"apartment_count\":136}]}\n",
      ">>> REQ: http://dt.miet.ru/ppo_it/api/1/4 \n",
      "<<< RES: 200\n",
      "\t{\"data\":[{\"house_id\":1,\"apartment_count\":56},{\"house_id\":2,\"apartment_count\":68},{\"house_id\":3,\"apartment_count\":136},{\"house_id\":4,\"apartment_count\":68},{\"house_id\":5,\"apartment_count\":272},{\"house_id\":6,\"apartment_count\":40},{\"house_id\":7,\"apartment_count\":96},{\"house_id\":8,\"apartment_count\":60},{\"house_id\":9,\"apartment_count\":28},{\"house_id\":10,\"apartment_count\":40},{\"house_id\":11,\"apartment_count\":20},{\"house_id\":12,\"apartment_count\":28},{\"house_id\":13,\"apartment_count\":84},{\"house_id\":14,\"apartment_count\":84},{\"house_id\":15,\"apartment_count\":40},{\"house_id\":16,\"apartment_count\":192},{\"house_id\":17,\"apartment_count\":272},{\"house_id\":18,\"apartment_count\":40},{\"house_id\":19,\"apartment_count\":272},{\"house_id\":20,\"apartment_count\":136},{\"house_id\":21,\"apartment_count\":56},{\"house_id\":22,\"apartment_count\":120}]}\n",
      ">>> REQ: http://dt.miet.ru/ppo_it/api/1/5 \n",
      "<<< RES: 200\n",
      "\t{\"data\":[{\"house_id\":1,\"apartment_count\":48},{\"house_id\":2,\"apartment_count\":120},{\"house_id\":3,\"apartment_count\":80},{\"house_id\":4,\"apartment_count\":84},{\"house_id\":5,\"apartment_count\":56},{\"house_id\":6,\"apartment_count\":204},{\"house_id\":7,\"apartment_count\":28},{\"house_id\":8,\"apartment_count\":40},{\"house_id\":9,\"apartment_count\":20},{\"house_id\":10,\"apartment_count\":112},{\"house_id\":11,\"apartment_count\":40},{\"house_id\":12,\"apartment_count\":192},{\"house_id\":13,\"apartment_count\":60},{\"house_id\":14,\"apartment_count\":112},{\"house_id\":15,\"apartment_count\":120},{\"house_id\":16,\"apartment_count\":40},{\"house_id\":17,\"apartment_count\":160},{\"house_id\":18,\"apartment_count\":20},{\"house_id\":19,\"apartment_count\":48},{\"house_id\":20,\"apartment_count\":60},{\"house_id\":21,\"apartment_count\":80},{\"house_id\":22,\"apartment_count\":192},{\"house_id\":23,\"apartment_count\":40},{\"house_id\":24,\"apartment_count\":68},{\"house_id\":25,\"apartment_count\":40},{\"house_id\":26,\"apartment_count\":40},{\"house_id\":27,\"apartment_count\":48}]}\n",
      ">>> REQ: http://dt.miet.ru/ppo_it/api/1/6 \n",
      "<<< RES: 200\n",
      "\t{\"data\":[{\"house_id\":1,\"apartment_count\":96},{\"house_id\":2,\"apartment_count\":96},{\"house_id\":3,\"apartment_count\":80},{\"house_id\":4,\"apartment_count\":20},{\"house_id\":5,\"apartment_count\":48},{\"house_id\":6,\"apartment_count\":192},{\"house_id\":7,\"apartment_count\":60},{\"house_id\":8,\"apartment_count\":272},{\"house_id\":9,\"apartment_count\":120},{\"house_id\":10,\"apartment_count\":136},{\"house_id\":11,\"apartment_count\":80},{\"house_id\":12,\"apartment_count\":68},{\"house_id\":13,\"apartment_count\":28},{\"house_id\":14,\"apartment_count\":56},{\"house_id\":15,\"apartment_count\":40},{\"house_id\":16,\"apartment_count\":192},{\"house_id\":17,\"apartment_count\":120},{\"house_id\":18,\"apartment_count\":96},{\"house_id\":19,\"apartment_count\":120},{\"house_id\":20,\"apartment_count\":28},{\"house_id\":21,\"apartment_count\":272},{\"house_id\":22,\"apartment_count\":204},{\"house_id\":23,\"apartment_count\":272},{\"house_id\":24,\"apartment_count\":56},{\"house_id\":25,\"apartment_count\":160},{\"house_id\":26,\"apartment_count\":112}]}\n"
     ]
    },
    {
     "data": {
      "application/vnd.jupyter.widget-view+json": {
       "model_id": "8c321d56dfb64c9381668447c8cd0e86",
       "version_major": 2,
       "version_minor": 0
      },
      "text/plain": [
       "VBox(children=(HBox(children=(Button(button_style='primary', description='Показать', icon='search', style=Butt…"
      ]
     },
     "metadata": {},
     "output_type": "display_data"
    }
   ],
   "source": [
    "ui.task1()"
   ]
  },
  {
   "cell_type": "code",
   "execution_count": 21,
   "metadata": {},
   "outputs": [
    {
     "name": "stdout",
     "output_type": "stream",
     "text": [
      ">>> REQ: http://dt.miet.ru/ppo_it/api/1 \n",
      "<<< RES: 200\n",
      "\t{\"data\":{\"house_count\":147,\"city_id\":1,\"area_count\":6,\"apartment_count\":14964,\"temperature\":-21,\"city_name\":\"Алмазный\"}}\n",
      ">>> REQ: http://dt.miet.ru/ppo_it/api/1/1 \n",
      "<<< RES: 200\n",
      "\t{\"data\":[{\"house_id\":1,\"apartment_count\":56},{\"house_id\":2,\"apartment_count\":160},{\"house_id\":3,\"apartment_count\":192},{\"house_id\":4,\"apartment_count\":272},{\"house_id\":5,\"apartment_count\":112},{\"house_id\":6,\"apartment_count\":192},{\"house_id\":7,\"apartment_count\":80},{\"house_id\":8,\"apartment_count\":84},{\"house_id\":9,\"apartment_count\":84},{\"house_id\":10,\"apartment_count\":68},{\"house_id\":11,\"apartment_count\":144},{\"house_id\":12,\"apartment_count\":144},{\"house_id\":13,\"apartment_count\":80},{\"house_id\":14,\"apartment_count\":120},{\"house_id\":15,\"apartment_count\":84},{\"house_id\":16,\"apartment_count\":68},{\"house_id\":17,\"apartment_count\":20},{\"house_id\":18,\"apartment_count\":120},{\"house_id\":19,\"apartment_count\":272},{\"house_id\":20,\"apartment_count\":136},{\"house_id\":21,\"apartment_count\":136},{\"house_id\":22,\"apartment_count\":40},{\"house_id\":23,\"apartment_count\":204}]}\n",
      ">>> REQ: http://dt.miet.ru/ppo_it/api/1/2 \n",
      "<<< RES: 200\n",
      "\t{\"data\":[{\"house_id\":1,\"apartment_count\":56},{\"house_id\":2,\"apartment_count\":144},{\"house_id\":3,\"apartment_count\":56},{\"house_id\":4,\"apartment_count\":84},{\"house_id\":5,\"apartment_count\":48},{\"house_id\":6,\"apartment_count\":144},{\"house_id\":7,\"apartment_count\":80},{\"house_id\":8,\"apartment_count\":136},{\"house_id\":9,\"apartment_count\":96},{\"house_id\":10,\"apartment_count\":56},{\"house_id\":11,\"apartment_count\":136},{\"house_id\":12,\"apartment_count\":60},{\"house_id\":13,\"apartment_count\":80},{\"house_id\":14,\"apartment_count\":160},{\"house_id\":15,\"apartment_count\":40},{\"house_id\":16,\"apartment_count\":40},{\"house_id\":17,\"apartment_count\":120},{\"house_id\":18,\"apartment_count\":120},{\"house_id\":19,\"apartment_count\":28},{\"house_id\":20,\"apartment_count\":272},{\"house_id\":21,\"apartment_count\":96}]}\n",
      ">>> REQ: http://dt.miet.ru/ppo_it/api/1/3 \n",
      "<<< RES: 200\n",
      "\t{\"data\":[{\"house_id\":1,\"apartment_count\":20},{\"house_id\":2,\"apartment_count\":28},{\"house_id\":3,\"apartment_count\":20},{\"house_id\":4,\"apartment_count\":40},{\"house_id\":5,\"apartment_count\":272},{\"house_id\":6,\"apartment_count\":84},{\"house_id\":7,\"apartment_count\":112},{\"house_id\":8,\"apartment_count\":28},{\"house_id\":9,\"apartment_count\":48},{\"house_id\":10,\"apartment_count\":20},{\"house_id\":11,\"apartment_count\":48},{\"house_id\":12,\"apartment_count\":272},{\"house_id\":13,\"apartment_count\":40},{\"house_id\":14,\"apartment_count\":192},{\"house_id\":15,\"apartment_count\":160},{\"house_id\":16,\"apartment_count\":20},{\"house_id\":17,\"apartment_count\":40},{\"house_id\":18,\"apartment_count\":120},{\"house_id\":19,\"apartment_count\":48},{\"house_id\":20,\"apartment_count\":80},{\"house_id\":21,\"apartment_count\":204},{\"house_id\":22,\"apartment_count\":48},{\"house_id\":23,\"apartment_count\":84},{\"house_id\":24,\"apartment_count\":136},{\"house_id\":25,\"apartment_count\":144},{\"house_id\":26,\"apartment_count\":136},{\"house_id\":27,\"apartment_count\":80},{\"house_id\":28,\"apartment_count\":136}]}\n",
      ">>> REQ: http://dt.miet.ru/ppo_it/api/1/4 \n",
      "<<< RES: 200\n",
      "\t{\"data\":[{\"house_id\":1,\"apartment_count\":56},{\"house_id\":2,\"apartment_count\":68},{\"house_id\":3,\"apartment_count\":136},{\"house_id\":4,\"apartment_count\":68},{\"house_id\":5,\"apartment_count\":272},{\"house_id\":6,\"apartment_count\":40},{\"house_id\":7,\"apartment_count\":96},{\"house_id\":8,\"apartment_count\":60},{\"house_id\":9,\"apartment_count\":28},{\"house_id\":10,\"apartment_count\":40},{\"house_id\":11,\"apartment_count\":20},{\"house_id\":12,\"apartment_count\":28},{\"house_id\":13,\"apartment_count\":84},{\"house_id\":14,\"apartment_count\":84},{\"house_id\":15,\"apartment_count\":40},{\"house_id\":16,\"apartment_count\":192},{\"house_id\":17,\"apartment_count\":272},{\"house_id\":18,\"apartment_count\":40},{\"house_id\":19,\"apartment_count\":272},{\"house_id\":20,\"apartment_count\":136},{\"house_id\":21,\"apartment_count\":56},{\"house_id\":22,\"apartment_count\":120}]}\n",
      ">>> REQ: http://dt.miet.ru/ppo_it/api/1/5 \n",
      "<<< RES: 200\n",
      "\t{\"data\":[{\"house_id\":1,\"apartment_count\":48},{\"house_id\":2,\"apartment_count\":120},{\"house_id\":3,\"apartment_count\":80},{\"house_id\":4,\"apartment_count\":84},{\"house_id\":5,\"apartment_count\":56},{\"house_id\":6,\"apartment_count\":204},{\"house_id\":7,\"apartment_count\":28},{\"house_id\":8,\"apartment_count\":40},{\"house_id\":9,\"apartment_count\":20},{\"house_id\":10,\"apartment_count\":112},{\"house_id\":11,\"apartment_count\":40},{\"house_id\":12,\"apartment_count\":192},{\"house_id\":13,\"apartment_count\":60},{\"house_id\":14,\"apartment_count\":112},{\"house_id\":15,\"apartment_count\":120},{\"house_id\":16,\"apartment_count\":40},{\"house_id\":17,\"apartment_count\":160},{\"house_id\":18,\"apartment_count\":20},{\"house_id\":19,\"apartment_count\":48},{\"house_id\":20,\"apartment_count\":60},{\"house_id\":21,\"apartment_count\":80},{\"house_id\":22,\"apartment_count\":192},{\"house_id\":23,\"apartment_count\":40},{\"house_id\":24,\"apartment_count\":68},{\"house_id\":25,\"apartment_count\":40},{\"house_id\":26,\"apartment_count\":40},{\"house_id\":27,\"apartment_count\":48}]}\n",
      ">>> REQ: http://dt.miet.ru/ppo_it/api/1/6 \n",
      "<<< RES: 200\n",
      "\t{\"data\":[{\"house_id\":1,\"apartment_count\":96},{\"house_id\":2,\"apartment_count\":96},{\"house_id\":3,\"apartment_count\":80},{\"house_id\":4,\"apartment_count\":20},{\"house_id\":5,\"apartment_count\":48},{\"house_id\":6,\"apartment_count\":192},{\"house_id\":7,\"apartment_count\":60},{\"house_id\":8,\"apartment_count\":272},{\"house_id\":9,\"apartment_count\":120},{\"house_id\":10,\"apartment_count\":136},{\"house_id\":11,\"apartment_count\":80},{\"house_id\":12,\"apartment_count\":68},{\"house_id\":13,\"apartment_count\":28},{\"house_id\":14,\"apartment_count\":56},{\"house_id\":15,\"apartment_count\":40},{\"house_id\":16,\"apartment_count\":192},{\"house_id\":17,\"apartment_count\":120},{\"house_id\":18,\"apartment_count\":96},{\"house_id\":19,\"apartment_count\":120},{\"house_id\":20,\"apartment_count\":28},{\"house_id\":21,\"apartment_count\":272},{\"house_id\":22,\"apartment_count\":204},{\"house_id\":23,\"apartment_count\":272},{\"house_id\":24,\"apartment_count\":56},{\"house_id\":25,\"apartment_count\":160},{\"house_id\":26,\"apartment_count\":112}]}\n"
     ]
    },
    {
     "data": {
      "application/vnd.jupyter.widget-view+json": {
       "model_id": "69031c78360d4f64ac61fd5a2639b276",
       "version_major": 2,
       "version_minor": 0
      },
      "text/plain": [
       "VBox(children=(HBox(children=(Button(button_style='primary', description='Показать', icon='search', style=Butt…"
      ]
     },
     "metadata": {},
     "output_type": "display_data"
    }
   ],
   "source": [
    "ui.task2()"
   ]
  },
  {
   "cell_type": "code",
   "execution_count": 22,
   "metadata": {},
   "outputs": [
    {
     "name": "stdout",
     "output_type": "stream",
     "text": [
      ">>> REQ: http://dt.miet.ru/ppo_it/api/1 \n",
      "<<< RES: 200\n",
      "\t{\"data\":{\"house_count\":147,\"city_id\":1,\"area_count\":6,\"apartment_count\":14964,\"temperature\":-21,\"city_name\":\"Алмазный\"}}\n",
      ">>> REQ: http://dt.miet.ru/ppo_it/api/1/1 \n",
      "<<< RES: 200\n",
      "\t{\"data\":[{\"house_id\":1,\"apartment_count\":56},{\"house_id\":2,\"apartment_count\":160},{\"house_id\":3,\"apartment_count\":192},{\"house_id\":4,\"apartment_count\":272},{\"house_id\":5,\"apartment_count\":112},{\"house_id\":6,\"apartment_count\":192},{\"house_id\":7,\"apartment_count\":80},{\"house_id\":8,\"apartment_count\":84},{\"house_id\":9,\"apartment_count\":84},{\"house_id\":10,\"apartment_count\":68},{\"house_id\":11,\"apartment_count\":144},{\"house_id\":12,\"apartment_count\":144},{\"house_id\":13,\"apartment_count\":80},{\"house_id\":14,\"apartment_count\":120},{\"house_id\":15,\"apartment_count\":84},{\"house_id\":16,\"apartment_count\":68},{\"house_id\":17,\"apartment_count\":20},{\"house_id\":18,\"apartment_count\":120},{\"house_id\":19,\"apartment_count\":272},{\"house_id\":20,\"apartment_count\":136},{\"house_id\":21,\"apartment_count\":136},{\"house_id\":22,\"apartment_count\":40},{\"house_id\":23,\"apartment_count\":204}]}\n",
      ">>> REQ: http://dt.miet.ru/ppo_it/api/1/2 \n",
      "<<< RES: 200\n",
      "\t{\"data\":[{\"house_id\":1,\"apartment_count\":56},{\"house_id\":2,\"apartment_count\":144},{\"house_id\":3,\"apartment_count\":56},{\"house_id\":4,\"apartment_count\":84},{\"house_id\":5,\"apartment_count\":48},{\"house_id\":6,\"apartment_count\":144},{\"house_id\":7,\"apartment_count\":80},{\"house_id\":8,\"apartment_count\":136},{\"house_id\":9,\"apartment_count\":96},{\"house_id\":10,\"apartment_count\":56},{\"house_id\":11,\"apartment_count\":136},{\"house_id\":12,\"apartment_count\":60},{\"house_id\":13,\"apartment_count\":80},{\"house_id\":14,\"apartment_count\":160},{\"house_id\":15,\"apartment_count\":40},{\"house_id\":16,\"apartment_count\":40},{\"house_id\":17,\"apartment_count\":120},{\"house_id\":18,\"apartment_count\":120},{\"house_id\":19,\"apartment_count\":28},{\"house_id\":20,\"apartment_count\":272},{\"house_id\":21,\"apartment_count\":96}]}\n",
      ">>> REQ: http://dt.miet.ru/ppo_it/api/1/3 \n",
      "<<< RES: 200\n",
      "\t{\"data\":[{\"house_id\":1,\"apartment_count\":20},{\"house_id\":2,\"apartment_count\":28},{\"house_id\":3,\"apartment_count\":20},{\"house_id\":4,\"apartment_count\":40},{\"house_id\":5,\"apartment_count\":272},{\"house_id\":6,\"apartment_count\":84},{\"house_id\":7,\"apartment_count\":112},{\"house_id\":8,\"apartment_count\":28},{\"house_id\":9,\"apartment_count\":48},{\"house_id\":10,\"apartment_count\":20},{\"house_id\":11,\"apartment_count\":48},{\"house_id\":12,\"apartment_count\":272},{\"house_id\":13,\"apartment_count\":40},{\"house_id\":14,\"apartment_count\":192},{\"house_id\":15,\"apartment_count\":160},{\"house_id\":16,\"apartment_count\":20},{\"house_id\":17,\"apartment_count\":40},{\"house_id\":18,\"apartment_count\":120},{\"house_id\":19,\"apartment_count\":48},{\"house_id\":20,\"apartment_count\":80},{\"house_id\":21,\"apartment_count\":204},{\"house_id\":22,\"apartment_count\":48},{\"house_id\":23,\"apartment_count\":84},{\"house_id\":24,\"apartment_count\":136},{\"house_id\":25,\"apartment_count\":144},{\"house_id\":26,\"apartment_count\":136},{\"house_id\":27,\"apartment_count\":80},{\"house_id\":28,\"apartment_count\":136}]}\n",
      ">>> REQ: http://dt.miet.ru/ppo_it/api/1/4 \n",
      "<<< RES: 200\n",
      "\t{\"data\":[{\"house_id\":1,\"apartment_count\":56},{\"house_id\":2,\"apartment_count\":68},{\"house_id\":3,\"apartment_count\":136},{\"house_id\":4,\"apartment_count\":68},{\"house_id\":5,\"apartment_count\":272},{\"house_id\":6,\"apartment_count\":40},{\"house_id\":7,\"apartment_count\":96},{\"house_id\":8,\"apartment_count\":60},{\"house_id\":9,\"apartment_count\":28},{\"house_id\":10,\"apartment_count\":40},{\"house_id\":11,\"apartment_count\":20},{\"house_id\":12,\"apartment_count\":28},{\"house_id\":13,\"apartment_count\":84},{\"house_id\":14,\"apartment_count\":84},{\"house_id\":15,\"apartment_count\":40},{\"house_id\":16,\"apartment_count\":192},{\"house_id\":17,\"apartment_count\":272},{\"house_id\":18,\"apartment_count\":40},{\"house_id\":19,\"apartment_count\":272},{\"house_id\":20,\"apartment_count\":136},{\"house_id\":21,\"apartment_count\":56},{\"house_id\":22,\"apartment_count\":120}]}\n",
      ">>> REQ: http://dt.miet.ru/ppo_it/api/1/5 \n",
      "<<< RES: 200\n",
      "\t{\"data\":[{\"house_id\":1,\"apartment_count\":48},{\"house_id\":2,\"apartment_count\":120},{\"house_id\":3,\"apartment_count\":80},{\"house_id\":4,\"apartment_count\":84},{\"house_id\":5,\"apartment_count\":56},{\"house_id\":6,\"apartment_count\":204},{\"house_id\":7,\"apartment_count\":28},{\"house_id\":8,\"apartment_count\":40},{\"house_id\":9,\"apartment_count\":20},{\"house_id\":10,\"apartment_count\":112},{\"house_id\":11,\"apartment_count\":40},{\"house_id\":12,\"apartment_count\":192},{\"house_id\":13,\"apartment_count\":60},{\"house_id\":14,\"apartment_count\":112},{\"house_id\":15,\"apartment_count\":120},{\"house_id\":16,\"apartment_count\":40},{\"house_id\":17,\"apartment_count\":160},{\"house_id\":18,\"apartment_count\":20},{\"house_id\":19,\"apartment_count\":48},{\"house_id\":20,\"apartment_count\":60},{\"house_id\":21,\"apartment_count\":80},{\"house_id\":22,\"apartment_count\":192},{\"house_id\":23,\"apartment_count\":40},{\"house_id\":24,\"apartment_count\":68},{\"house_id\":25,\"apartment_count\":40},{\"house_id\":26,\"apartment_count\":40},{\"house_id\":27,\"apartment_count\":48}]}\n",
      ">>> REQ: http://dt.miet.ru/ppo_it/api/1/6 \n",
      "<<< RES: 200\n",
      "\t{\"data\":[{\"house_id\":1,\"apartment_count\":96},{\"house_id\":2,\"apartment_count\":96},{\"house_id\":3,\"apartment_count\":80},{\"house_id\":4,\"apartment_count\":20},{\"house_id\":5,\"apartment_count\":48},{\"house_id\":6,\"apartment_count\":192},{\"house_id\":7,\"apartment_count\":60},{\"house_id\":8,\"apartment_count\":272},{\"house_id\":9,\"apartment_count\":120},{\"house_id\":10,\"apartment_count\":136},{\"house_id\":11,\"apartment_count\":80},{\"house_id\":12,\"apartment_count\":68},{\"house_id\":13,\"apartment_count\":28},{\"house_id\":14,\"apartment_count\":56},{\"house_id\":15,\"apartment_count\":40},{\"house_id\":16,\"apartment_count\":192},{\"house_id\":17,\"apartment_count\":120},{\"house_id\":18,\"apartment_count\":96},{\"house_id\":19,\"apartment_count\":120},{\"house_id\":20,\"apartment_count\":28},{\"house_id\":21,\"apartment_count\":272},{\"house_id\":22,\"apartment_count\":204},{\"house_id\":23,\"apartment_count\":272},{\"house_id\":24,\"apartment_count\":56},{\"house_id\":25,\"apartment_count\":160},{\"house_id\":26,\"apartment_count\":112}]}\n"
     ]
    },
    {
     "data": {
      "application/vnd.jupyter.widget-view+json": {
       "model_id": "9da1aa4eed7342069a85f630ba9e44e0",
       "version_major": 2,
       "version_minor": 0
      },
      "text/plain": [
       "VBox(children=(HBox(children=(Button(button_style='primary', description='Показать', icon='search', style=Butt…"
      ]
     },
     "metadata": {},
     "output_type": "display_data"
    }
   ],
   "source": [
    "ui.task3()"
   ]
  },
  {
   "cell_type": "code",
   "execution_count": 18,
   "metadata": {},
   "outputs": [
    {
     "name": "stdout",
     "output_type": "stream",
     "text": [
      ">>> REQ: http://dt.miet.ru/ppo_it/api/1 \n",
      "<<< RES: 200\n",
      "\t{\"data\":{\"house_count\":147,\"city_id\":1,\"area_count\":6,\"apartment_count\":14964,\"temperature\":-21,\"city_name\":\"Алмазный\"}}\n",
      ">>> REQ: http://dt.miet.ru/ppo_it/api/1/1 \n",
      "<<< RES: 200\n",
      "\t{\"data\":[{\"house_id\":1,\"apartment_count\":56},{\"house_id\":2,\"apartment_count\":160},{\"house_id\":3,\"apartment_count\":192},{\"house_id\":4,\"apartment_count\":272},{\"house_id\":5,\"apartment_count\":112},{\"house_id\":6,\"apartment_count\":192},{\"house_id\":7,\"apartment_count\":80},{\"house_id\":8,\"apartment_count\":84},{\"house_id\":9,\"apartment_count\":84},{\"house_id\":10,\"apartment_count\":68},{\"house_id\":11,\"apartment_count\":144},{\"house_id\":12,\"apartment_count\":144},{\"house_id\":13,\"apartment_count\":80},{\"house_id\":14,\"apartment_count\":120},{\"house_id\":15,\"apartment_count\":84},{\"house_id\":16,\"apartment_count\":68},{\"house_id\":17,\"apartment_count\":20},{\"house_id\":18,\"apartment_count\":120},{\"house_id\":19,\"apartment_count\":272},{\"house_id\":20,\"apartment_count\":136},{\"house_id\":21,\"apartment_count\":136},{\"house_id\":22,\"apartment_count\":40},{\"house_id\":23,\"apartment_count\":204}]}\n",
      ">>> REQ: http://dt.miet.ru/ppo_it/api/1/2 \n",
      "<<< RES: 200\n",
      "\t{\"data\":[{\"house_id\":1,\"apartment_count\":56},{\"house_id\":2,\"apartment_count\":144},{\"house_id\":3,\"apartment_count\":56},{\"house_id\":4,\"apartment_count\":84},{\"house_id\":5,\"apartment_count\":48},{\"house_id\":6,\"apartment_count\":144},{\"house_id\":7,\"apartment_count\":80},{\"house_id\":8,\"apartment_count\":136},{\"house_id\":9,\"apartment_count\":96},{\"house_id\":10,\"apartment_count\":56},{\"house_id\":11,\"apartment_count\":136},{\"house_id\":12,\"apartment_count\":60},{\"house_id\":13,\"apartment_count\":80},{\"house_id\":14,\"apartment_count\":160},{\"house_id\":15,\"apartment_count\":40},{\"house_id\":16,\"apartment_count\":40},{\"house_id\":17,\"apartment_count\":120},{\"house_id\":18,\"apartment_count\":120},{\"house_id\":19,\"apartment_count\":28},{\"house_id\":20,\"apartment_count\":272},{\"house_id\":21,\"apartment_count\":96}]}\n",
      ">>> REQ: http://dt.miet.ru/ppo_it/api/1/3 \n",
      "<<< RES: 200\n",
      "\t{\"data\":[{\"house_id\":1,\"apartment_count\":20},{\"house_id\":2,\"apartment_count\":28},{\"house_id\":3,\"apartment_count\":20},{\"house_id\":4,\"apartment_count\":40},{\"house_id\":5,\"apartment_count\":272},{\"house_id\":6,\"apartment_count\":84},{\"house_id\":7,\"apartment_count\":112},{\"house_id\":8,\"apartment_count\":28},{\"house_id\":9,\"apartment_count\":48},{\"house_id\":10,\"apartment_count\":20},{\"house_id\":11,\"apartment_count\":48},{\"house_id\":12,\"apartment_count\":272},{\"house_id\":13,\"apartment_count\":40},{\"house_id\":14,\"apartment_count\":192},{\"house_id\":15,\"apartment_count\":160},{\"house_id\":16,\"apartment_count\":20},{\"house_id\":17,\"apartment_count\":40},{\"house_id\":18,\"apartment_count\":120},{\"house_id\":19,\"apartment_count\":48},{\"house_id\":20,\"apartment_count\":80},{\"house_id\":21,\"apartment_count\":204},{\"house_id\":22,\"apartment_count\":48},{\"house_id\":23,\"apartment_count\":84},{\"house_id\":24,\"apartment_count\":136},{\"house_id\":25,\"apartment_count\":144},{\"house_id\":26,\"apartment_count\":136},{\"house_id\":27,\"apartment_count\":80},{\"house_id\":28,\"apartment_count\":136}]}\n",
      ">>> REQ: http://dt.miet.ru/ppo_it/api/1/4 \n",
      "<<< RES: 200\n",
      "\t{\"data\":[{\"house_id\":1,\"apartment_count\":56},{\"house_id\":2,\"apartment_count\":68},{\"house_id\":3,\"apartment_count\":136},{\"house_id\":4,\"apartment_count\":68},{\"house_id\":5,\"apartment_count\":272},{\"house_id\":6,\"apartment_count\":40},{\"house_id\":7,\"apartment_count\":96},{\"house_id\":8,\"apartment_count\":60},{\"house_id\":9,\"apartment_count\":28},{\"house_id\":10,\"apartment_count\":40},{\"house_id\":11,\"apartment_count\":20},{\"house_id\":12,\"apartment_count\":28},{\"house_id\":13,\"apartment_count\":84},{\"house_id\":14,\"apartment_count\":84},{\"house_id\":15,\"apartment_count\":40},{\"house_id\":16,\"apartment_count\":192},{\"house_id\":17,\"apartment_count\":272},{\"house_id\":18,\"apartment_count\":40},{\"house_id\":19,\"apartment_count\":272},{\"house_id\":20,\"apartment_count\":136},{\"house_id\":21,\"apartment_count\":56},{\"house_id\":22,\"apartment_count\":120}]}\n",
      ">>> REQ: http://dt.miet.ru/ppo_it/api/1/5 \n",
      "<<< RES: 200\n",
      "\t{\"data\":[{\"house_id\":1,\"apartment_count\":48},{\"house_id\":2,\"apartment_count\":120},{\"house_id\":3,\"apartment_count\":80},{\"house_id\":4,\"apartment_count\":84},{\"house_id\":5,\"apartment_count\":56},{\"house_id\":6,\"apartment_count\":204},{\"house_id\":7,\"apartment_count\":28},{\"house_id\":8,\"apartment_count\":40},{\"house_id\":9,\"apartment_count\":20},{\"house_id\":10,\"apartment_count\":112},{\"house_id\":11,\"apartment_count\":40},{\"house_id\":12,\"apartment_count\":192},{\"house_id\":13,\"apartment_count\":60},{\"house_id\":14,\"apartment_count\":112},{\"house_id\":15,\"apartment_count\":120},{\"house_id\":16,\"apartment_count\":40},{\"house_id\":17,\"apartment_count\":160},{\"house_id\":18,\"apartment_count\":20},{\"house_id\":19,\"apartment_count\":48},{\"house_id\":20,\"apartment_count\":60},{\"house_id\":21,\"apartment_count\":80},{\"house_id\":22,\"apartment_count\":192},{\"house_id\":23,\"apartment_count\":40},{\"house_id\":24,\"apartment_count\":68},{\"house_id\":25,\"apartment_count\":40},{\"house_id\":26,\"apartment_count\":40},{\"house_id\":27,\"apartment_count\":48}]}\n",
      ">>> REQ: http://dt.miet.ru/ppo_it/api/1/6 \n",
      "<<< RES: 200\n",
      "\t{\"data\":[{\"house_id\":1,\"apartment_count\":96},{\"house_id\":2,\"apartment_count\":96},{\"house_id\":3,\"apartment_count\":80},{\"house_id\":4,\"apartment_count\":20},{\"house_id\":5,\"apartment_count\":48},{\"house_id\":6,\"apartment_count\":192},{\"house_id\":7,\"apartment_count\":60},{\"house_id\":8,\"apartment_count\":272},{\"house_id\":9,\"apartment_count\":120},{\"house_id\":10,\"apartment_count\":136},{\"house_id\":11,\"apartment_count\":80},{\"house_id\":12,\"apartment_count\":68},{\"house_id\":13,\"apartment_count\":28},{\"house_id\":14,\"apartment_count\":56},{\"house_id\":15,\"apartment_count\":40},{\"house_id\":16,\"apartment_count\":192},{\"house_id\":17,\"apartment_count\":120},{\"house_id\":18,\"apartment_count\":96},{\"house_id\":19,\"apartment_count\":120},{\"house_id\":20,\"apartment_count\":28},{\"house_id\":21,\"apartment_count\":272},{\"house_id\":22,\"apartment_count\":204},{\"house_id\":23,\"apartment_count\":272},{\"house_id\":24,\"apartment_count\":56},{\"house_id\":25,\"apartment_count\":160},{\"house_id\":26,\"apartment_count\":112}]}\n"
     ]
    },
    {
     "data": {
      "application/vnd.jupyter.widget-view+json": {
       "model_id": "8f233fdb07584d5686dedb5b2db02d05",
       "version_major": 2,
       "version_minor": 0
      },
      "text/plain": [
       "VBox(children=(HBox(children=(Button(button_style='primary', description='Показать', icon='search', style=Butt…"
      ]
     },
     "metadata": {},
     "output_type": "display_data"
    }
   ],
   "source": [
    "ui.task4()"
   ]
  },
  {
   "cell_type": "code",
   "execution_count": 17,
   "metadata": {},
   "outputs": [],
   "source": [
    "ui.task5()"
   ]
  },
  {
   "cell_type": "code",
   "execution_count": null,
   "metadata": {},
   "outputs": [],
   "source": []
  }
 ],
 "metadata": {
  "kernelspec": {
   "display_name": "Python 3",
   "language": "python",
   "name": "python3"
  },
  "language_info": {
   "codemirror_mode": {
    "name": "ipython",
    "version": 3
   },
   "file_extension": ".py",
   "mimetype": "text/x-python",
   "name": "python",
   "nbconvert_exporter": "python",
   "pygments_lexer": "ipython3",
   "version": "3.7.6"
  }
 },
 "nbformat": 4,
 "nbformat_minor": 2
}
